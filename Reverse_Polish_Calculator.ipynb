{
 "cells": [
  {
   "cell_type": "code",
   "execution_count": 17,
   "metadata": {
    "collapsed": false
   },
   "outputs": [
    {
     "name": "stdout",
     "output_type": "stream",
     "text": [
      "Enter the equation with spaces: 45 sin sin sin\n",
      "stack: [45.0]\n",
      "stack: [0.7071067811865475]\n",
      "stack: [0.012341028214969883]\n",
      "Result: 0.0002153915737672804\n"
     ]
    }
   ],
   "source": [
    "# Reverse Polish Notation calculator\n",
    "# based on http://en.wikipedia.org/wiki/Reverse_Polish_notation\n",
    "\n",
    "# Steps\n",
    "# - get input from user\n",
    "# - parse input, put operands in stack and evaluate operators\n",
    "# - maintain loop and output result\n",
    "\n",
    "import math\n",
    "import operator\n",
    "\n",
    "ops = { '+': operator.add,\n",
    "        '-': operator.sub,\n",
    "        '*': operator.mul,\n",
    "        '/': operator.truediv,\n",
    "        '^': operator.pow,\n",
    "        'sin': math.sin,\n",
    "        'tan': math.tan,\n",
    "        'cos': math.cos,\n",
    "        'pi': math.pi }\n",
    "\n",
    "def is_number(s): \n",
    "    try:\n",
    "        float(s)\n",
    "        return True\n",
    "    except ValueError:\n",
    "        pass\n",
    "\n",
    "def calculate(equation):\n",
    "    stack = []\n",
    "    result = 0\n",
    "\n",
    "    for i in equation:\n",
    "        if is_number(i):\n",
    "            stack.insert(0, float(i))\n",
    "        else:\n",
    "            if (len(stack) < 2) and (len(i)==1):\n",
    "                print('stack: {}'.format(stack))\n",
    "                print(\"Error: not enough values\")\n",
    "                break\n",
    "            elif (len(stack) ==1) and (len(i)>1):\n",
    "                print('stack: {}'.format(stack))\n",
    "                n1 = stack.pop(0)\n",
    "                result = ops[i](math.radians(n1))\n",
    "                stack.insert(0, result)\n",
    "            elif (len(stack)==2) and (len(i)==1):\n",
    "                print('stack: {}'.format(stack))\n",
    "                n1 = stack.pop(1)\n",
    "                n2 = stack.pop(0)\n",
    "                result = ops[i](n1, n2)\n",
    "                stack.insert(0, result)\n",
    "            else:\n",
    "                print(\"Error: not enough values\")\n",
    "                print('stack: {}'.format(stack))\n",
    "                break\n",
    "    return result\n",
    "\n",
    "def main():\n",
    "    equation = input('Enter the equation with spaces: ').split(' ')\n",
    "    answer = calculate(equation)\n",
    "    print('Result: {}'.format(answer))\n",
    "\n",
    "if __name__ == '__main__':\n",
    "    main()"
   ]
  }
 ],
 "metadata": {
  "anaconda-cloud": {},
  "kernelspec": {
   "display_name": "Python [conda root]",
   "language": "python",
   "name": "conda-root-py"
  },
  "language_info": {
   "codemirror_mode": {
    "name": "ipython",
    "version": 3
   },
   "file_extension": ".py",
   "mimetype": "text/x-python",
   "name": "python",
   "nbconvert_exporter": "python",
   "pygments_lexer": "ipython3",
   "version": "3.5.2"
  }
 },
 "nbformat": 4,
 "nbformat_minor": 1
}
