{
 "cells": [
  {
   "cell_type": "markdown",
   "metadata": {
    "collapsed": true
   },
   "source": [
    "## US Birth Data Set\n",
    "\n",
    "[Original article by FiveThirtyEight about Friday the 13th](http://fivethirtyeight.com/features/some-people-are-too-superstitious-to-have-a-baby-on-friday-the-13th/)\n",
    "\n",
    "The data set contains U.S. births data for the years 1994 to 2003, as provided by the Centers for Disease Control and Prevention's National Center for Health Statistics"
   ]
  },
  {
   "cell_type": "markdown",
   "metadata": {},
   "source": [
    "### Assignment\n",
    "\n",
    "- Open the CSV and split based on new lines\n",
    "- Preview the first 10 entries"
   ]
  },
  {
   "cell_type": "code",
   "execution_count": 27,
   "metadata": {
    "collapsed": false
   },
   "outputs": [
    {
     "name": "stdout",
     "output_type": "stream",
     "text": [
      "['year', 'month', 'date_of_month', 'day_of_week', 'births']\n",
      "['1994', '1', '1', '6', '8096']\n",
      "['1994', '1', '2', '7', '7772']\n",
      "['1994', '1', '3', '1', '10142']\n",
      "['1994', '1', '4', '2', '11248']\n",
      "['1994', '1', '5', '3', '11053']\n",
      "['1994', '1', '6', '4', '11406']\n",
      "['1994', '1', '7', '5', '11251']\n",
      "['1994', '1', '8', '6', '8653']\n",
      "['1994', '1', '9', '7', '7910']\n"
     ]
    }
   ],
   "source": [
    "import csv\n",
    "with open('us_births.csv','r') as f:\n",
    "    reader=list(csv.reader(f))\n",
    "    for row in reader[:10]:\n",
    "        print (row)"
   ]
  },
  {
   "cell_type": "markdown",
   "metadata": {},
   "source": [
    "### Assignment\n",
    "\n",
    "- Create a function that takes in a CSV and converts the data into a list of lists\n",
    "    - Each row will be a list\n",
    "    - Make sure to convert the values to int\n",
    "    - Return the final list of lists\n",
    "- Preview the first 10 entries of the output"
   ]
  },
  {
   "cell_type": "code",
   "execution_count": 63,
   "metadata": {
    "collapsed": false
   },
   "outputs": [
    {
     "name": "stdout",
     "output_type": "stream",
     "text": [
      "3652\n",
      "[1994, 1, 1, 6, 8096]\n",
      "[1994, 1, 2, 7, 7772]\n",
      "[1994, 1, 3, 1, 10142]\n",
      "[1994, 1, 4, 2, 11248]\n",
      "[1994, 1, 5, 3, 11053]\n",
      "[1994, 1, 6, 4, 11406]\n",
      "[1994, 1, 7, 5, 11251]\n",
      "[1994, 1, 8, 6, 8653]\n",
      "[1994, 1, 9, 7, 7910]\n",
      "[1994, 1, 10, 1, 10498]\n"
     ]
    }
   ],
   "source": [
    "def list_ele_int(input_list):\n",
    "    return [int(element) for element in input_list]\n",
    "def CSV_to_list(filename):\n",
    "    with open(filename,'r') as f:\n",
    "        reader=list(csv.reader(f))\n",
    "    reader=[list_ele_int(row) for row in reader[1:]]    \n",
    "    return reader\n",
    "CSV_contents=CSV_to_list('us_births.csv')\n",
    "print(len(CSV_contents))\n",
    "for ele in CSV_contents[:10]:\n",
    "    print(ele)"
   ]
  },
  {
   "cell_type": "markdown",
   "metadata": {},
   "source": [
    "### Assignment\n",
    "\n",
    "- Create a function that calculates the number of births each month\n",
    "    - The function input should be the previous list of lists you created\n",
    "    - Use a dictionary and increment the values associated with each month key\n",
    "    - Return the final dictionary\n",
    "- Preview the output"
   ]
  },
  {
   "cell_type": "code",
   "execution_count": 73,
   "metadata": {
    "collapsed": false
   },
   "outputs": [
    {
     "data": {
      "text/plain": [
       "{1: 3240613,\n",
       " 2: 3029895,\n",
       " 3: 3334196,\n",
       " 4: 3195944,\n",
       " 5: 3359052,\n",
       " 6: 3308879,\n",
       " 7: 3511237,\n",
       " 8: 3537286,\n",
       " 9: 3451881,\n",
       " 10: 3388165,\n",
       " 11: 3183963,\n",
       " 12: 3313541}"
      ]
     },
     "execution_count": 73,
     "metadata": {},
     "output_type": "execute_result"
    }
   ],
   "source": [
    "def count_birth(input_list, colnum=1): \n",
    "#'''input_list is list of lists of integer values,\n",
    "#last col contains dependent quantity. This functions computes \n",
    "#total births in each month (second column)'''\n",
    "    birth_month={}\n",
    "    for i in range(len(input_list)):\n",
    "        if input_list[i][colnum] not in birth_month:\n",
    "            birth_month[input_list[i][colnum]]=0+input_list[i][4]\n",
    "        birth_month[input_list[i][colnum]]+=input_list[i][4]\n",
    "    return birth_month\n",
    "birth_month=count_birth(CSV_contents)\n",
    "birth_month"
   ]
  },
  {
   "cell_type": "markdown",
   "metadata": {},
   "source": [
    "### Assignment\n",
    "\n",
    "- Create a function that calculates the number of births each day of the week"
   ]
  },
  {
   "cell_type": "code",
   "execution_count": 74,
   "metadata": {
    "collapsed": false
   },
   "outputs": [
    {
     "data": {
      "text/plain": [
       "{1: 5799308,\n",
       " 2: 6457444,\n",
       " 3: 6333908,\n",
       " 4: 6299835,\n",
       " 5: 6244908,\n",
       " 6: 4570207,\n",
       " 7: 4087495}"
      ]
     },
     "execution_count": 74,
     "metadata": {},
     "output_type": "execute_result"
    }
   ],
   "source": [
    "# if the fuction above is called as \n",
    "# birth_day=count_birth(CSV_contents,3)\n",
    "#number of births each day of week could be calculated\n",
    "birth_day=count_birth(CSV_contents,3)\n",
    "birth_day"
   ]
  },
  {
   "cell_type": "markdown",
   "metadata": {},
   "source": [
    "### Assignment\n",
    "\n",
    "- Create a general function that takes the data list of lists and a column index, it should return a dictionary mapping of the unique keys and summed values"
   ]
  },
  {
   "cell_type": "code",
   "execution_count": null,
   "metadata": {
    "collapsed": false
   },
   "outputs": [],
   "source": [
    "# function above could called with second argument as desired\n",
    "# column index"
   ]
  }
 ],
 "metadata": {
  "anaconda-cloud": {},
  "kernelspec": {
   "display_name": "Python [conda root]",
   "language": "python",
   "name": "conda-root-py"
  },
  "language_info": {
   "codemirror_mode": {
    "name": "ipython",
    "version": 3
   },
   "file_extension": ".py",
   "mimetype": "text/x-python",
   "name": "python",
   "nbconvert_exporter": "python",
   "pygments_lexer": "ipython3",
   "version": "3.5.2"
  }
 },
 "nbformat": 4,
 "nbformat_minor": 1
}
