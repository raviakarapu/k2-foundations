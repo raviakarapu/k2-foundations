{
 "cells": [
  {
   "cell_type": "code",
   "execution_count": 7,
   "metadata": {
    "collapsed": false
   },
   "outputs": [
    {
     "name": "stdout",
     "output_type": "stream",
     "text": [
      "Translate phrase into Pig Latin:  ? ,\n",
      "?ay ,ay\n"
     ]
    }
   ],
   "source": [
    "#Pig Latin Transator\n",
    "# Rules\n",
    "# - For words that begin with consonant sounds, all letters before the initial vowel are placed at the end of the word sequence. Then, \"ay\" is added.\n",
    "# - For words that begin with vowel sounds, one just adds \"way\" to the end.\n",
    "\n",
    "def translate():\n",
    "    vowels = ['a','e','i','o','u']\n",
    "    sentence = input('Translate phrase into Pig Latin:  ')\n",
    "    sentence = sentence.split()\n",
    "\n",
    "    for i in range(len(sentence)):\n",
    "        word = sentence[i]\n",
    "\n",
    "        if word[0] in vowels:\n",
    "            sentence[i] = word +'way'\n",
    "        elif word[0] not in vowels:\n",
    "            # sentence[i] = word[1:] + word[0] + 'ay'\n",
    "\n",
    "            prefix = ''\n",
    "            for j in range(len(word)):\n",
    "                if word[j] in vowels:\n",
    "                    break\n",
    "                else:\n",
    "                    prefix += word[j]\n",
    "\n",
    "            sentence[i] = word[len(prefix):] + prefix + 'ay'\n",
    "        else:\n",
    "            sentence[i] = word\n",
    "\n",
    "    return ' '.join(sentence)\n",
    "\n",
    "\n",
    "if __name__ == '__main__':\n",
    "    print(translate())"
   ]
  },
  {
   "cell_type": "code",
   "execution_count": null,
   "metadata": {
    "collapsed": true
   },
   "outputs": [],
   "source": []
  },
  {
   "cell_type": "code",
   "execution_count": null,
   "metadata": {
    "collapsed": true
   },
   "outputs": [],
   "source": []
  }
 ],
 "metadata": {
  "anaconda-cloud": {},
  "kernelspec": {
   "display_name": "Python [conda root]",
   "language": "python",
   "name": "conda-root-py"
  },
  "language_info": {
   "codemirror_mode": {
    "name": "ipython",
    "version": 3
   },
   "file_extension": ".py",
   "mimetype": "text/x-python",
   "name": "python",
   "nbconvert_exporter": "python",
   "pygments_lexer": "ipython3",
   "version": "3.5.2"
  }
 },
 "nbformat": 4,
 "nbformat_minor": 1
}
